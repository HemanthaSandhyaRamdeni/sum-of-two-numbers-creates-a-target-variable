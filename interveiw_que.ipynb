{
 "cells": [
  {
   "cell_type": "code",
   "execution_count": 2,
   "id": "be11c17d",
   "metadata": {},
   "outputs": [
    {
     "name": "stdout",
     "output_type": "stream",
     "text": [
      "[[1, 3]]\n",
      "[[1, 3], [2, 2]]\n",
      "[[1, 3], [2, 2], [-4, 8]]\n",
      "[[1, 3], [2, 2], [-4, 8]]\n",
      "[1, 3, 2, 2, -4, 8]\n",
      "[-4, 1, 2, 2, 3, 8]\n"
     ]
    }
   ],
   "source": [
    "# Given input\n",
    "ary1=[1, 3, 2, 2, -4, -6, -2, 8]\n",
    "#Target Value \n",
    "target_value= 4\n",
    "ary=[]\n",
    "ary_=[]\n",
    "for x  in range(len(ary1)-1):\n",
    "    for y in range(x+1,len(ary1)):\n",
    "        if ary1[x] + ary1[y] == target_value: \n",
    "            ary.append([ary1[x],ary1[y]])\n",
    "            print(list(ary))\n",
    "            \n",
    "            \n",
    "\n",
    "\n",
    "print(ary)\n",
    "flatlist=[]\n",
    "for sublist in ary:\n",
    "    for element in sublist:\n",
    "        flatlist.append(element)\n",
    "print(flatlist)\n",
    "print(sorted(flatlist))\n",
    "\n",
    "\n",
    "ary1=[1, 3, 2, 2, -4, -6, -2, 8]\n",
    "#Target Value \n",
    "target_value= 8\n",
    "ary=[]\n",
    "ary_=[]\n",
    "for x  in range(len(ary1)-1):\n",
    "    for y in range(x+1,len(ary1)-1):\n",
    "        for z in range(y+1,len(ary1)-1):\n",
    "             for a in range(z+1,len(ary1)):\n",
    "                    if ary1[x] + ary1[y]+ary1[z]+ary1[a] == 8: \n",
    "                        ary_.append([ary1[x],ary1[y]])\n",
    "#                         print(list(ary_))\n",
    "\n",
    "                   \n"
   ]
  },
  {
   "cell_type": "code",
   "execution_count": null,
   "id": "32bde91d",
   "metadata": {},
   "outputs": [],
   "source": []
  }
 ],
 "metadata": {
  "kernelspec": {
   "display_name": "Python 3 (ipykernel)",
   "language": "python",
   "name": "python3"
  },
  "language_info": {
   "codemirror_mode": {
    "name": "ipython",
    "version": 3
   },
   "file_extension": ".py",
   "mimetype": "text/x-python",
   "name": "python",
   "nbconvert_exporter": "python",
   "pygments_lexer": "ipython3",
   "version": "3.9.13"
  }
 },
 "nbformat": 4,
 "nbformat_minor": 5
}
